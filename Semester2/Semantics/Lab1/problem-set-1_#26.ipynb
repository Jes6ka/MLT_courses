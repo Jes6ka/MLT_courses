{
 "cells": [
  {
   "cell_type": "markdown",
   "metadata": {
    "deletable": true,
    "editable": true
   },
   "source": [
    "# Problem Set 1"
   ]
  },
  {
   "cell_type": "markdown",
   "metadata": {
    "deletable": true,
    "editable": true
   },
   "source": [
    "The code is adjusted for Python 3 and NLTK 3.\n",
    "\n",
    "Write all your answers and the code in the appropriate boxes below."
   ]
  },
  {
   "cell_type": "markdown",
   "metadata": {
    "deletable": true,
    "editable": true
   },
   "source": [
    "## Part 1: Translating English to logic and evaluating logic in a model"
   ]
  },
  {
   "cell_type": "code",
   "execution_count": 1,
   "metadata": {
    "collapsed": true,
    "deletable": true,
    "editable": true
   },
   "outputs": [],
   "source": [
    "import nltk\n",
    "read_expr = nltk.sem.Expression.fromstring"
   ]
  },
  {
   "cell_type": "markdown",
   "metadata": {
    "deletable": true,
    "editable": true
   },
   "source": [
    "'1.' Translate the following sentences into propositional logic and verify that they parse with Expression.fromstring(). Provide a key which shows how the propositional variables in your translation correspond to expressions of English. Briefly discuss any difficulties you encounter. [4 + 1 marks]"
   ]
  },
  {
   "cell_type": "code",
   "execution_count": 2,
   "metadata": {
    "collapsed": false,
    "deletable": true,
    "editable": true
   },
   "outputs": [
    {
     "name": "stdout",
     "output_type": "stream",
     "text": [
      "(AP -> AS)\n",
      "(AS & S)\n",
      "(-AS -> -LH)\n",
      "(-(AP | GP) -> (AM & GM))\n",
      "GP\n"
     ]
    }
   ],
   "source": [
    "sentences = [\n",
    "    # If Alex plays the piano, he is smart.\n",
    "    #read_expr('play(x,p) -> smart(x) /g(A/x)'),\n",
    "    read_expr('AP -> AS'),\n",
    "    \n",
    "    # Alex is both smart and musical.\n",
    "    #read_expr('smart(x)^musical(x) /g(A/x)'),\n",
    "    read_expr(' AS ^ S'),\n",
    "    \n",
    "    # If Alex is not smart, Lydia is not happy.\n",
    "    #read_expr('-smart(x) -> happy(Y) /g(A/x, L/y)'),\n",
    "    read_expr(' -AS -> -LH'),\n",
    "    \n",
    "    # If Alex or George plays the piano, they are musical.\n",
    "    #read_expr(' play(x, p) -> musical(x) /g(A|G / x)'),\n",
    "    read_expr(' -(AP | GP) -> AM^GM'),\n",
    "    \n",
    "    # George plays the piano.\n",
    "    #read_expr('play(x,p) g(G/x)')\n",
    "    read_expr(' GP ')\n",
    "]\n",
    "\n",
    "for sentence in sentences:\n",
    "    print(sentence)"
   ]
  },
  {
   "cell_type": "markdown",
   "metadata": {
    "deletable": true,
    "editable": true
   },
   "source": [
    "*Difficulties encountered:* 4th, sentence, we don't know if they refer \"1. either Alex or George, or 2. one of them is musical\""
   ]
  },
  {
   "cell_type": "markdown",
   "metadata": {},
   "source": [
    "##### GRADE: 5"
   ]
  },
  {
   "cell_type": "markdown",
   "metadata": {
    "deletable": true,
    "editable": true
   },
   "source": [
    "'2.' Imagine that we observe a world where (i) Alex does not play the piano, (ii) Alex and Lydia are smart and musical, (iii) George is not musical, (iv) Lydia is happy, (viii) George plays the piano. Translate this informal description of the world into a model by appropriately defining an evaluation function and evaluate the formulae from Question 1 in this model. Briefly comment the answers you get. [4 + 1 marks]."
   ]
  },
  {
   "cell_type": "code",
   "execution_count": 3,
   "metadata": {
    "collapsed": false,
    "deletable": true,
    "editable": true,
    "scrolled": true
   },
   "outputs": [
    {
     "name": "stdout",
     "output_type": "stream",
     "text": [
      "(AP -> AS)  :  True\n",
      "(AS & S)  :  Undefined\n",
      "(-AS -> -LH)  :  True\n",
      "(-(AP | GP) -> (AM & GM))  :  True\n",
      "GP  :  True\n"
     ]
    }
   ],
   "source": [
    "val1 = nltk.Valuation([\n",
    "        # (Alex play piano) = AP = False\n",
    "        ('AP', False),\n",
    "        \n",
    "        # (Alex is smart, Alex is musical) = AS, AM = True, (Lydia is smart) = LS, LM = True\n",
    "        ('AS', True), ('AM', True),\n",
    "        ('LS', True), ('LM', True),\n",
    "        \n",
    "        # (George is not musical) = GM = False\n",
    "        ('GM', False),\n",
    "        \n",
    "        # (Lydia is happy) = LH = True\n",
    "        ('LH', True),\n",
    "        \n",
    "        # (George plays the piano) = GP = True\n",
    "        ('GP', True) \n",
    "    ])\n",
    "\n",
    "domain = set([]) # There are no individuals in propositional logic\n",
    "g = nltk.Assignment(domain)\n",
    "#assign = nltk.Assignment(domain) # There are also no variables and hence assignments\n",
    "\n",
    "model = nltk.Model(domain, val1)\n",
    "\n",
    "for sentence in sentences:\n",
    "    print(sentence, ' : ', model.evaluate(str(sentence), g))\n"
   ]
  },
  {
   "cell_type": "markdown",
   "metadata": {
    "deletable": true,
    "editable": true
   },
   "source": [
    "*Comments:* same problem for 4th sentence, we still don't know if they refer \"1. either Alex or George, or 2. one of them is musical\""
   ]
  },
  {
   "cell_type": "markdown",
   "metadata": {},
   "source": [
    "#### GRADE: 4"
   ]
  },
  {
   "cell_type": "markdown",
   "metadata": {
    "deletable": true,
    "editable": true
   },
   "source": [
    "'3.' Translate the following sentences into predicate-argument formulae of First Order Logic and verify that they parse with Expression.fromstring(). Briefly discuss any difficulties you encounter. [4 + 1 marks]"
   ]
  },
  {
   "cell_type": "code",
   "execution_count": 4,
   "metadata": {
    "collapsed": false,
    "deletable": true,
    "editable": true
   },
   "outputs": [
    {
     "name": "stdout",
     "output_type": "stream",
     "text": [
      "(like(x,y) & -like(x,z))\n",
      "(like(x,x) & like(y,y))\n",
      "(english(x) & pianist(x) & play(x,y))\n",
      "(admire(x,y) & admire(y,x))\n"
     ]
    }
   ],
   "source": [
    "origin = [\"\"\"Lydia likes George but Lydia doesn't like Alex\"\"\",\n",
    "          \"\"\"Lydia likes herself and so does George\"\"\",\n",
    "          \"\"\"Charlie is an English pianist who plays a sonata\"\"\",\n",
    "          \"\"\"Lydia and George admire each other\"\"\"\n",
    "         ]\n",
    "\n",
    "sentences = [\n",
    "    # Lydia likes George but Lydia doesn't like Alex\n",
    "    #read_expr('like(x, y)^-like(x,z) g(L/x, G/y, A/z)'),\n",
    "    read_expr('like(x, y)^-like(x,z)'),\n",
    "    \n",
    "    # Lydia likes herself and so does George\n",
    "    #read_expr('1. like(x,y)^like(z, y) | 2. like(x, x)^like(y, y) '),  \n",
    "    read_expr('like(x, x)^like(y,y)'),\n",
    "    \n",
    "    # Charlie is an English pianist who plays a sonata\n",
    "    #read_expr('English(x)^pianist(x)^play_sonata(x)  g(c/x, s/y) '),\n",
    "    read_expr('english(x)^pianist(x)^play(x,y)'),\n",
    "    \n",
    "    # Lydia and George admire each other\n",
    "    #read_expr('admire(x,y)^admire(y,x) g(L/x, G/y)')\n",
    "    read_expr('admire(x,y)^admire(y,x)')]\n",
    "\n",
    "for sentence in sentences:\n",
    "    print(sentence)"
   ]
  },
  {
   "cell_type": "markdown",
   "metadata": {
    "deletable": true,
    "editable": true
   },
   "source": [
    "*Difficulties encountered:*"
   ]
  },
  {
   "cell_type": "markdown",
   "metadata": {},
   "source": [
    "GRADE: 4\n",
    "COMMENTS: WHAT  IT x, y"
   ]
  },
  {
   "cell_type": "markdown",
   "metadata": {
    "deletable": true,
    "editable": true
   },
   "source": [
    "'4. Translate the following sentences into quantified formulas of First Order Logic and verify that they parse with Expression.fromstring(). Briefly discuss any difficulties you encounter. [4 + 1 marks]"
   ]
  },
  {
   "cell_type": "code",
   "execution_count": 5,
   "metadata": {
    "collapsed": false,
    "deletable": true,
    "editable": true
   },
   "outputs": [
    {
     "name": "stdout",
     "output_type": "stream",
     "text": [
      "exists x.(know(y,x) & woman(x) & like(x,z))\n",
      "(all x.(human(x) -> admire(y,x)) & -exists w.(human(w) & admire(z,w)))\n",
      "-exists x.(human(x) & all y.(human(y) -> admire(x,y)))\n",
      "exists x.(musician(x) & all y.((musician(y) & all m.((music(m) & wrote(z,m)) -> play(y,m))) -> (x = y)))\n"
     ]
    }
   ],
   "source": [
    "origin2 = [\"\"\"Charlie knows a woman who likes George\"\"\",\n",
    "          \"\"\"George admires everybody and Lydia admires nobody\"\"\",\n",
    "          \"\"\"Nobody admires everybody\"\"\",\n",
    "          \"\"\"Exactly one musician plays everything Alex wrote\"\"\"\n",
    "         ]\n",
    "origin.extend(origin2)\n",
    "\n",
    "sentences2 = [\n",
    "    # Charlie knows a woman who likes George\n",
    "    # Chalie = y, George = z\n",
    "    read_expr('exists x.(know(y, x)^woman(x)^like(x, z))'),\n",
    "    \n",
    "    # George admires everybody and Lydia admires nobody\n",
    "    # George = y, Lydia = z\n",
    "    #read_expr('(all x.(admire(y,x)))^-(exists w.(admire(z,w)))'),\n",
    "    read_expr(' all x.(human(x) -> admire(y,x))^ -(exists w.(human(w)^admire(z,w)))'),\n",
    "    \n",
    "    # Nobody admires everybody\n",
    "    # x, y is human, x=human, y=human\n",
    "    read_expr('-exists x.(human(x)^all y.(human(y) -> admire(x,y))) '),\n",
    "    \n",
    "    \n",
    "    # Exactly one musician plays everything Alex wrote\n",
    "    # There is one and onne plays musics that Aelx wrote\n",
    "    # Alex = z\n",
    "    #read_expr(' exists x.(musician(x)^human(x)^all y.(play(x, y)^music(y)^wrote(z, y)))')]\n",
    "    #read_expr('exists x.(human(x)^musician(x)->(all y.(play(x, y)^music(y)^wrote(z,y)))) ')]\n",
    "    read_expr('  exists x.(musician(x)^all y.(musician(y)^all m.(music(m)^wrote(z,m) -> play(y,m)) -> (x=y) ) ) ')]\n",
    "\n",
    "\n",
    "for sentence in sentences2:\n",
    "    sentences.append(sentence)\n",
    "    print(sentence)"
   ]
  },
  {
   "cell_type": "markdown",
   "metadata": {
    "deletable": true,
    "editable": true
   },
   "source": [
    "*Difficulties encountered:* I had to define which entities belong to \"human\" or \"music\", if I don't define this, system will try to find all entities for \"no one\", \"everbody\"."
   ]
  },
  {
   "cell_type": "markdown",
   "metadata": {},
   "source": [
    "GRADE: 3"
   ]
  },
  {
   "cell_type": "markdown",
   "metadata": {
    "deletable": true,
    "editable": true
   },
   "source": [
    "'5.' We observe a world with entities Lydia, George, Alex, Charlie and Bertie, sonata, etude, prelude, waltz, scherzo.\n",
    "\n",
    "1. Lydia likes Lydia, George, Alex and Charlie. George likes Lydia, Bertie and George. Alex likes Alex. Charlie likes Lydia, George, Alex, Charlie and Bertie. Bertie likes Alex.\n",
    "2. Lydia, George, Alex, Charlie and Bertie are English.\n",
    "3. Charlie and Bertie are pianists.\n",
    "4. Charlie plays a sonata, an etude and a waltz. Bertie plays a waltz and a scherzo. Lydia plays an etude, a prelude and a waltz.\n",
    "5. Lydia admires Lydia, Charlie and Bertie. George admires Lydia, George, Alex, Charlie and Bertie. Alex admires Lydia, Alex and Bertie. Charlie admires George and Bertie. Bertie admires Lydia, George, Alex, Charlie and Bertie.\n",
    "6. Lydia knows Lydia, George, Alex, Charlie and Bertie. George knows Lydia, George and Bertie. Alex knows Lydia, Alex and Bertie. Charlie knows George, Charlie and Bertie. Bertie knows Lydia, George, Alex, Charlie and Bertie.\n",
    "7. Lydia, Alex and Charlie are women.\n",
    "8. George and Bertie are men.\n",
    "9. Alex wrote a sonata, an etude an a waltz.\n",
    "10. Lydia, Alex, Charlie and Bertie are musicians.\n",
    "\n",
    "Translate this informal description of the world into a model and evaluate the formulae from Questions 4 and 5 in this model. Briefly comment on the answers you get [3 + 2 marks]."
   ]
  },
  {
   "cell_type": "code",
   "execution_count": 6,
   "metadata": {
    "collapsed": false,
    "deletable": true,
    "editable": true,
    "scrolled": true
   },
   "outputs": [
    {
     "name": "stdout",
     "output_type": "stream",
     "text": [
      "1 (like(x,y) & -like(x,z))                                <=== assigned  :  g[a/z][g/y][l/x]     False\n",
      "Lydia likes George but Lydia doesn't like Alex \n",
      "\n",
      "2 (like(x,x) & like(y,y))                                 <=== assigned  :  g[g/y][l/x]          True\n",
      "Lydia likes herself and so does George \n",
      "\n",
      "3 (english(x) & pianist(x) & play(x,y))                   <=== assigned  :  g[c/x][s/y]          True\n",
      "Charlie is an English pianist who plays a sonata \n",
      "\n",
      "4 (admire(x,y) & admire(y,x))                             <=== assigned  :  g[g/y][l/x]          False\n",
      "Lydia and George admire each other \n",
      "\n",
      "5 exists x.(know(y,x) & woman(x) & like(x,z))             <=== assigned  :  g[c/y][g/z]          True\n",
      "Charlie knows a woman who likes George \n",
      "\n",
      "6 (all x.(human(x) -> admire(y,x)) & -exists w.(human(w) & admire(z,w))) <=== assigned  :  g[g/y][l/z]          False\n",
      "George admires everybody and Lydia admires nobody \n",
      "\n",
      "7 -exists x.(human(x) & all y.(human(y) -> admire(x,y)))  <=== assigned  :  g                    False\n",
      "Nobody admires everybody \n",
      "\n",
      "8 exists x.(musician(x) & all y.((musician(y) & all m.((music(m) & wrote(z,m)) -> play(y,m))) -> (x = y))) <=== assigned  :  g[a/z]               True\n",
      "Exactly one musician plays everything Alex wrote \n",
      "\n"
     ]
    }
   ],
   "source": [
    "entities = set(['l','g','a','c','b','s','e','p','w','sc', 'i', 'i2'])\n",
    "\n",
    "assign = \"\"\"\n",
    "\n",
    "Lydia => l\n",
    "George => g\n",
    "Alex => a\n",
    "Charlie => c\n",
    "Bertie => b\n",
    "Imaginary_one => i\n",
    "Imaginary_two => i2\n",
    "\n",
    "human => {l,g,a,c,b}\n",
    "\n",
    "alien => {i,i2}\n",
    "\n",
    "sonata => s\n",
    "etude => e\n",
    "prelude => p\n",
    "waltz => w\n",
    "scherzo => sc\n",
    "\n",
    "music => {s,e,p,w,sc}\n",
    "\n",
    "\n",
    "\n",
    "woman => {l, a, c}\n",
    "\n",
    "man => {g, b}\n",
    "\n",
    "english => {l, g, a, c, b}\n",
    "\n",
    "pianist => {c, b}\n",
    "\n",
    "musician => {l, a, c, b,i}\n",
    "\n",
    "like => {(l,l), (l,g),(l,a),(l,c),(g,l),(g,b),(g,g),(a,a),(c,l),(c,g),(c,a),(c,c),(c,b),(b,a)}\n",
    "\n",
    "play => {(c,s),(c,e),(c,w), (b,w),(b,sc), (l,e), (l,p), (l,w), (i,s), (i,e), (i,sc) }\n",
    "\n",
    "admire => {(l,l),(l,c),(l,b),(g,l),(g,g),(g,a),(g,c),(g,b),(a,a),(a,l),(a,b),(c,g),(c,b),(b,l),(b,g),(b,a),(b,c),(b,b)}\n",
    "\n",
    "know => {(l,l),(l,g),(l,a),(l,c),(l,b),(g,l),(g,g),(g,b),(a,l),(a,a),(a,b),(c,g),(c,c),(c,b),(b,l),(b,g),(b,a),(b,c),(b,b)}\n",
    "\n",
    "wrote => {(a, s), (a,e), (a,w)}\n",
    "\n",
    "\"\"\"\n",
    "\n",
    "val2 = nltk.Valuation.fromstring(assign)\n",
    "\n",
    "\n",
    "g={}\n",
    "\n",
    "\n",
    "# Lydia likes George but Lydia doesn't like Alex\n",
    "# g(l/x, g/y, a/z)\n",
    "g[1] = nltk.Assignment(entities, [('x', 'l'),('y', 'g'), ('z', 'a')])\n",
    "    \n",
    "# Lydia likes herself and so does George\n",
    "# g(l/x, g/y)  \n",
    "g[2] = nltk.Assignment(entities, [('x', 'l'), ('y', 'g')])\n",
    "    \n",
    "# Charlie is an English pianist who plays a sonata\n",
    "# g(c/x, s/y)\n",
    "g[3] = nltk.Assignment(entities, [('x', 'c'), ('y', 's')])\n",
    "    \n",
    "# Lydia and George admire each other\n",
    "#g(l/x, g/y)')\n",
    "g[4] = nltk.Assignment(entities, [('x', 'l'), ('y', 'g')])\n",
    "\n",
    "# Charlie knows a woman who likes George\n",
    "# Chalie = y, George = z\n",
    "g[5] = nltk.Assignment(entities, [('y', 'c'), ('z', 'g')])\n",
    "\n",
    "\n",
    "# George admires everybody and Lydia admires nobody\n",
    "# George = y, Lydia = z, human = x\n",
    "g[6] = nltk.Assignment(entities, [('y', 'g'), ('z', 'l')])\n",
    "\n",
    "\n",
    "# Nobody admires everybody\n",
    "# x, y is human.\n",
    "g[7] = nltk.Assignment(entities)\n",
    "\n",
    "\n",
    "# Exactly one musician plays everything Alex wrote\n",
    "# Alex = z, y = ?? is something Alex wrote.\n",
    "g[8] = nltk.Assignment(entities, [('z', 'a')]) #, [('z', 'a')]\n",
    "\n",
    "\n",
    "m2 = nltk.Model(entities, val2)\n",
    "\n",
    "#test\n",
    "# Nobody admires everybody\n",
    "# someone admire everybody\n",
    "# Exactly one musician plays everything Alex wrote\n",
    "\n",
    "#print(m2.evaluate(str(read_expr('all.y(exists x.(human(x)^woman(x)^pianist(x)')), nltk.Assignment(entities, [('y','l')])))\n",
    "#print(m2.evaluate(str(read_expr('   exists z.(human(z)^play(z, y)^(all y.(human(x)^wrote(x,y)^music(y))))   ')), nltk.Assignment(entities, [('x', 'a')])))\n",
    "#print(m2.evaluate(str(read_expr('exists x.(alien(x)^all y.(alien(y)^pianist(y) -> (x=y) )) ')), nltk.Assignment(entities)))\n",
    "#print(m2.evaluate(str(read_expr('all m.(music(m)^wrote(z,m) -> play(x,m) ) ')), nltk.Assignment(entities, [('z', 'a'), ('x', 'i')])))\n",
    "#print(m2.evaluate(str(read_expr('  exists x.(musician(x)^all y.(musician(y)^all m.(music(m)^wrote(z,m) -> play(y,m)) -> (x=y) ) ) ')), nltk.Assignment(entities, [('z', 'a')])))\n",
    "#print(m2.evaluate(str(read_expr( 'exists x.(human(x)^all y.(human(y) -> admire(x,y))) ')) , nltk.Assignment(entities) ) )\n",
    "#print(m2.evaluate(str(read_expr(' all x.(human(x) -> admire(y,x))^ -(exists w.(human(w)^admire(z,w)))')) , nltk.Assignment(entities, [('y','g'),('z','l')]) ) )\n",
    " \n",
    "#phi = read_expr('girl(x) | walk(x)')\n",
    "#print(m.satisfiers(phi, 'x', g)) \n",
    "\n",
    "\n",
    "for n,sentence in enumerate(sentences):\n",
    "    print(n+1, '{:55}'.format(str(sentence)), '<=== assigned  : ', '{:20}'.format(str(g[n+1])), m2.evaluate(str(sentence), g[n+1]))\n",
    "    print(origin[n], '\\n')"
   ]
  },
  {
   "cell_type": "markdown",
   "metadata": {
    "deletable": true,
    "editable": true
   },
   "source": [
    "*Comments on the answers:* Without defining predicates human(x), music(x), system will try to find all possible matching  entities. It would be problematic when dealing with everybody, nobody. problem occured with sentence 6th~8th in this case."
   ]
  },
  {
   "cell_type": "markdown",
   "metadata": {},
   "source": [
    "GRADE: 4"
   ]
  },
  {
   "cell_type": "markdown",
   "metadata": {
    "deletable": true,
    "editable": true
   },
   "source": [
    "## Part 2: Lambda calculus"
   ]
  },
  {
   "cell_type": "markdown",
   "metadata": {
    "deletable": true,
    "editable": true
   },
   "source": [
    "'6.' Translate the following verb phrases using λ abstracts and verify the resulting formulae with Expression.fromstring [4 marks]\n",
    "\n",
    "For help see `lambda-calculus.py` or `lambda-calculus.ipynb`."
   ]
  },
  {
   "cell_type": "code",
   "execution_count": 7,
   "metadata": {
    "collapsed": false,
    "deletable": true,
    "editable": true,
    "scrolled": true
   },
   "outputs": [
    {
     "name": "stdout",
     "output_type": "stream",
     "text": [
      "\\x.-exists y.admired(y,x)\n",
      "\\x.(catch(x,fish) & eat(x,fish))\n",
      "\\x.(read_book(x) | watch_flim(x))\n",
      "\\x.all y.(boy(y) -> give(x,y,dime))\n"
     ]
    }
   ],
   "source": [
    "sentences = [\n",
    "    # be admired by no-one\n",
    "    read_expr(r\"\\x.(-exists y.(admired(y,x)))\"),\n",
    "    # catch a fish and eat it\n",
    "    read_expr(r\"\\x.(catch(x,fish)^eat(x,fish))\"),\n",
    "    # read a book or watch a film\n",
    "    read_expr(r\"\\x.(read_book(x)|watch_flim(x))\"),\n",
    "    # give every boy a dime\n",
    "    read_expr(r\"\\x.(all y.(boy(y)->give(x,y,dime)))\")]\n",
    "\n",
    "for sentence in sentences:\n",
    "    print(sentence)"
   ]
  },
  {
   "cell_type": "markdown",
   "metadata": {},
   "source": [
    "GRADE:  2"
   ]
  },
  {
   "cell_type": "markdown",
   "metadata": {
    "deletable": true,
    "editable": true
   },
   "source": [
    "'7.' In the following examples some code has been deleted and replaced with `<????>`. What has been deleted? Verify that your answer is correct. [4 marks]"
   ]
  },
  {
   "cell_type": "code",
   "execution_count": 7,
   "metadata": {
    "collapsed": false,
    "deletable": true,
    "editable": true
   },
   "outputs": [
    {
     "name": "stdout",
     "output_type": "stream",
     "text": [
      "like(pip,rob)\n",
      "play(pip,scherzo)\n",
      "exists y.(woman(y) & play(y,etude))\n",
      "\\x.all z1.(musician(z1) -> like(x,z1))\n",
      "\\x.q(\\y.see(x,y))\n"
     ]
    }
   ],
   "source": [
    "nltk.data.clear_cache()\n",
    "\n",
    "e1 = read_expr(r'\\x.(like(x,rob))')\n",
    "e2 = read_expr(r'pip')\n",
    "e3 = nltk.sem.ApplicationExpression(e1,e2) \n",
    "print(e3.simplify())\n",
    "# with result like(pip,rob).\n",
    "\n",
    "e1 = read_expr(r'\\P.P(pip)')\n",
    "e2 = read_expr(r'\\x.play(x,scherzo)') \n",
    "e3 = nltk.sem.ApplicationExpression(e1,e2)\n",
    "print(e3.simplify())\n",
    "# with result play(pip,scherzo).\n",
    "\n",
    "e1 = read_expr(r'\\P.(exists y.(woman(y)^P(y)))')\n",
    "e2 = read_expr(r'\\x.play(x,etude)') \n",
    "e3 = nltk.sem.ApplicationExpression(e1,e2) \n",
    "print(e3.simplify())\n",
    "# with result exists x.(woman(x) & play(x,etude)).\n",
    "\n",
    "e1 = read_expr(r'\\Z.(\\R\\x.Z(like(x))(y))')\n",
    "e2 = read_expr(r'\\P.all x. (musician(x) -> P(x))') \n",
    "e3 = nltk.sem.ApplicationExpression(e1,e2) \n",
    "print(e3.simplify())\n",
    "# with result \\x.all z2.(musician(z2) -> like(x,z2)).\n",
    "\n",
    "e1 = read_expr(r'\\P.(P(q))')\n",
    "e2 = read_expr(r'\\ X x.X(\\ y.see(x,y))') \n",
    "e3 = nltk.sem.ApplicationExpression(e1,e2) \n",
    "print(e3.simplify())\n",
    "\n"
   ]
  },
  {
   "cell_type": "markdown",
   "metadata": {},
   "source": [
    "GRADE: 4"
   ]
  },
  {
   "cell_type": "markdown",
   "metadata": {
    "deletable": true,
    "editable": true
   },
   "source": [
    "'8.' Extend the grammar simple_sem.fcfg that comes with NLTK `(~/nltk_data/grammars/book_grammars/)` so that it will cover the following sentences. The grammar is included in the code below as a string.\n",
    "\n",
    "- no man gives a bone to a dog [4 marks]\n",
    "- a boy and a girl chased every dog\n",
    "- every dog chased a boy and a girl [4 marks]\n",
    "- a brown cat chases a white dog [4 marks]\n",
    "    \n",
    "The last example includes adjectives. Several different kinds of adjectives are discussed in the literature. In this example we have an intersective adjective. The denotiation we might want for brown cat is a set of individuals having a brown property and cat property."
   ]
  },
  {
   "cell_type": "code",
   "execution_count": 8,
   "metadata": {
    "collapsed": false,
    "deletable": true,
    "editable": true
   },
   "outputs": [],
   "source": [
    "nltk.data.clear_cache()\n",
    "fcfg_string = \"\"\"\n",
    "% start S\n",
    "############################\n",
    "# Grammar Rules\n",
    "#############################\n",
    "\n",
    "S[SEM = <?subj(?vp)>] -> NP[NUM=?n,SEM=?subj] VP[NUM=?n,SEM=?vp]\n",
    "S[SEM = <?subj>] -> NP[NUM=pl,SEM=?subj]\n",
    "\n",
    "NP[NUM=?n,SEM=<?det(?nom)> ] -> Det[NUM=?n,SEM=?det] Nom[NUM=?n,SEM=?nom]\n",
    "NP[LOC=?l,NUM=?n,SEM=?np] -> PropN[LOC=?l,NUM=?n,SEM=?np]\n",
    "\n",
    "###########\n",
    "NP[+CONJ,NUM=pl,SEM=<\\ P.(?first(P) & ?second(P))>] -> NP[NUM=?n,SEM=?first ] CONJ NP[NUM=?n,SEM=?second ]\n",
    "###########\n",
    "\n",
    "Nom[NUM=?n,SEM=?nom] -> N[NUM=?n,SEM=?nom]\n",
    "\n",
    "###########\n",
    "Nom[NUM=?n,SEM=<\\ P.(?jj(P)&?nom(P))>] -> ADJ[SEM = ?jj] N[NUM=?n,SEM=?nom]\n",
    "###########\n",
    "\n",
    "VP[NUM=?n,SEM=?v] -> IV[NUM=?n,SEM=?v]\n",
    "VP[NUM=?n,SEM=<?v(?obj)>] -> TV[NUM=?n,SEM=?v] NP[SEM=?obj]\n",
    "VP[NUM=?n,SEM=<?v(?obj,?pp)>] -> DTV[NUM=?n,SEM=?v] NP[SEM=?obj] PP[+TO,SEM=?pp]\n",
    "\n",
    "PP[+TO, SEM=?np] -> P[+TO] NP[SEM=?np]\n",
    "\n",
    "#############################\n",
    "# Lexical Rules\n",
    "#############################\n",
    "\n",
    "PropN[-LOC,NUM=sg,SEM=<\\ P.P(angus)>] -> 'Angus'\n",
    "PropN[-LOC,NUM=sg,SEM=<\\ P.P(cyril)>] -> 'Cyril'\n",
    "PropN[-LOC,NUM=sg,SEM=<\\ P.P(irene)>] -> 'Irene'\n",
    " \n",
    "Det[NUM=sg,SEM=<\\ P Q.all x.(P(x) -> Q(x))>] -> 'every'\n",
    "Det[NUM=pl,SEM=<\\ P Q.all x.(P(x) -> Q(x))>] -> 'all'\n",
    "Det[SEM=<\\ P Q.exists x.(P(x) & Q(x))>] -> 'some'\n",
    "\n",
    "###########\n",
    "Det[SEM=<\\ P Q.-exists x.(P(x) & Q(x))>] -> 'no'\n",
    "###########\n",
    "\n",
    "Det[NUM=sg,SEM=<\\ P Q.exists x.(P(x) & Q(x))>] -> 'a'\n",
    "Det[NUM=sg,SEM=<\\ P Q.exists x.(P(x) & Q(x))>] -> 'an'\n",
    "\n",
    "N[NUM=sg,SEM=<\\ x.man(x)>] -> 'man'\n",
    "N[NUM=sg,SEM=<\\ x.girl(x)>] -> 'girl'\n",
    "N[NUM=sg,SEM=<\\ x.boy(x)>] -> 'boy'\n",
    "N[NUM=sg,SEM=<\\ x.bone(x)>] -> 'bone'\n",
    "N[NUM=sg,SEM=<\\ x.ankle(x)>] -> 'ankle'\n",
    "N[NUM=sg,SEM=<\\ x.dog(x)>] -> 'dog'\n",
    "N[NUM=pl,SEM=<\\ x.dog(x)>] -> 'dogs'\n",
    "N[NUM=sg,SEM=<\\ x.cat(x)>] -> 'cat'\n",
    "N[NUM=pl,SEM=<\\ x.cat(x)>] -> 'cats'\n",
    "\n",
    "IV[NUM=sg,SEM=<\\ x.bark(x)>,TNS=pres] -> 'barks'\n",
    "IV[NUM=pl,SEM=<\\ x.bark(x)>,TNS=pres] -> 'bark'\n",
    "IV[NUM=sg,SEM=<\\ x.walk(x)>,TNS=pres] -> 'walks'\n",
    "IV[NUM=pl,SEM=<\\ x.walk(x)>,TNS=pres] -> 'walk'\n",
    "IV[NUM=pl,SEM=<\\ x.walk(x)>,TNS=pres] -> 'yarn'\n",
    "\n",
    "TV[NUM=sg,SEM=<\\ X x.X(\\ y.chase(x,y))>,TNS=pres] -> 'chases'\n",
    "TV[NUM=pl,SEM=<\\ X x.X(\\ y.chase(x,y))>,TNS=pres] -> 'chase'\n",
    "###########\n",
    "TV[SEM=<\\ X x.X(\\ y.chase(x,y))>,TNS=past] -> 'chased'\n",
    "###########\n",
    "TV[NUM=sg,SEM=<\\ X x.X(\\ y.see(x,y))>,TNS=pres] -> 'sees'\n",
    "TV[NUM=pl,SEM=<\\ X x.X(\\ y.see(x,y))>,TNS=pres] -> 'see'\n",
    "TV[NUM=sg,SEM=<\\ X x.X(\\ y.bite(x,y))>,TNS=pres] -> 'bites'\n",
    "TV[NUM=pl,SEM=<\\ X x.X(\\ y.bite(x,y))>,TNS=pres] -> 'bite'\n",
    "DTV[NUM=sg,SEM=<\\ Y X x.X(\\ z.Y(\\ y.give(x,y,z)))>,TNS=pres] -> 'gives'\n",
    "DTV[NUM=pl,SEM=<\\ Y X x.X(\\ z.Y(\\ y.give(x,y,z)))>,TNS=pres] -> 'give'\n",
    "\n",
    "ADJ[SEM = <\\ x.brown(x)>] -> 'brown' \n",
    "ADJ[SEM = <\\ x.white(x)>] -> 'white'\n",
    "\n",
    "P[+to] -> 'to'\n",
    "CONJ -> 'and'\n",
    "\"\"\""
   ]
  },
  {
   "cell_type": "markdown",
   "metadata": {
    "deletable": true,
    "editable": true
   },
   "source": [
    "Jupyter notebooks interpret `\\x` as a unicode escape character. To prevent this we need to add space between the lambda and the variable, e.g. `\\ x`. Fortunately, NLTK ignores such space. Load the NLTK library and the grammar:"
   ]
  },
  {
   "cell_type": "code",
   "execution_count": 9,
   "metadata": {
    "collapsed": false,
    "deletable": true,
    "editable": true
   },
   "outputs": [],
   "source": [
    "nltk.data.clear_cache()\n",
    "from nltk.grammar import FeatureGrammar\n",
    "syntax = FeatureGrammar.fromstring(fcfg_string)"
   ]
  },
  {
   "cell_type": "markdown",
   "metadata": {
    "deletable": true,
    "editable": true
   },
   "source": [
    "Analyse the sentences:"
   ]
  },
  {
   "cell_type": "code",
   "execution_count": 10,
   "metadata": {
    "collapsed": false,
    "deletable": true,
    "editable": true,
    "scrolled": true
   },
   "outputs": [
    {
     "name": "stdout",
     "output_type": "stream",
     "text": [
      "================================================================================\n",
      "-exists x.(man(x) & exists z3.(dog(z3) & exists z2.(bone(z2) & give(x,z2,z3))))\n",
      "================================================================================\n",
      "(exists x.(boy(x) & all z4.(dog(z4) -> chase(x,z4))) & exists x.(girl(x) & all z4.(dog(z4) -> chase(x,z4))))\n",
      "================================================================================\n",
      "all x.(dog(x) -> (exists z6.(boy(z6) & chase(x,z6)) & exists z7.(girl(z7) & chase(x,z7))))\n",
      "================================================================================\n",
      "exists x.(brown(x) & cat(x) & exists z8.(white(z8) & dog(z8) & chase(x,z8)))\n"
     ]
    }
   ],
   "source": [
    "nltk.data.clear_cache()\n",
    "sentences = ['no man gives a bone to a dog',\n",
    "            'a boy and a girl chased every dog',\n",
    "            'every dog chased a boy and a girl',\n",
    "             'a brown cat chases a white dog'\n",
    "]\n",
    "\n",
    "for results in nltk.interpret_sents(sentences, syntax):\n",
    "    for (synrep, semrep) in results:\n",
    "        print(40*'==')\n",
    "        print(semrep) # prints the SEM feature of a tree\n",
    "        #print(synrep) # prints the tree\n"
   ]
  },
  {
   "cell_type": "markdown",
   "metadata": {
    "deletable": true,
    "editable": true
   },
   "source": [
    "If you are working with iPython which is also running behind Jupyter notebooks and you are changing grammars and want to rerun a new version without restarting you may find `nltk.data.clear_cache()` useful."
   ]
  },
  {
   "cell_type": "markdown",
   "metadata": {},
   "source": [
    "GRADE: 12"
   ]
  },
  {
   "cell_type": "markdown",
   "metadata": {},
   "source": [
    "GRADE: 38, VG"
   ]
  },
  {
   "cell_type": "markdown",
   "metadata": {
    "deletable": true,
    "editable": true
   },
   "source": [
    "## Submitting your answers\n",
    "\n",
    "There are 45 marks on this problem-set. In order to obtain a VG you need at least 23 marks. In order to obtain a G you need at least 34 marks.\n",
    "\n",
    "The lab is meant as an exploration and learning exercise. If you get stuck, please write your questions to the GUL discussion topic for Lab 1. If you know the answer, please feel free to answer but don't provide a direct solution."
   ]
  }
 ],
 "metadata": {
  "kernelspec": {
   "display_name": "Python 3",
   "language": "python",
   "name": "python3"
  },
  "language_info": {
   "codemirror_mode": {
    "name": "ipython",
    "version": 3
   },
   "file_extension": ".py",
   "mimetype": "text/x-python",
   "name": "python",
   "nbconvert_exporter": "python",
   "pygments_lexer": "ipython3",
   "version": "3.4.3"
  }
 },
 "nbformat": 4,
 "nbformat_minor": 0
}
