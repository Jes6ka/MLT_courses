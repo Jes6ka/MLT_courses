{
 "cells": [
  {
   "cell_type": "code",
   "execution_count": 2,
   "metadata": {
    "collapsed": true
   },
   "outputs": [],
   "source": [
    "import pandas as pd\n",
    "import numpy as np"
   ]
  },
  {
   "cell_type": "code",
   "execution_count": 9,
   "metadata": {},
   "outputs": [],
   "source": [
    "a = {'a': 22, 'b':32}\n",
    "b = {'a': 54, 'c':2}\n",
    "\n",
    "c = pd.DataFrame(a, [1,2])\n",
    "d = pd.DataFrame(b, [1,2])"
   ]
  },
  {
   "cell_type": "code",
   "execution_count": 11,
   "metadata": {},
   "outputs": [
    {
     "data": {
      "text/html": [
       "<div>\n",
       "<table border=\"1\" class=\"dataframe\">\n",
       "  <thead>\n",
       "    <tr style=\"text-align: right;\">\n",
       "      <th></th>\n",
       "      <th>a</th>\n",
       "      <th>c</th>\n",
       "    </tr>\n",
       "  </thead>\n",
       "  <tbody>\n",
       "    <tr>\n",
       "      <th>1</th>\n",
       "      <td>54</td>\n",
       "      <td>2</td>\n",
       "    </tr>\n",
       "    <tr>\n",
       "      <th>2</th>\n",
       "      <td>54</td>\n",
       "      <td>2</td>\n",
       "    </tr>\n",
       "  </tbody>\n",
       "</table>\n",
       "</div>"
      ],
      "text/plain": [
       "    a  c\n",
       "1  54  2\n",
       "2  54  2"
      ]
     },
     "execution_count": 11,
     "metadata": {},
     "output_type": "execute_result"
    }
   ],
   "source": [
    "d"
   ]
  },
  {
   "cell_type": "code",
   "execution_count": 39,
   "metadata": {},
   "outputs": [],
   "source": [
    "merged_c = c.merge(d, left_on='a', right_on='a', how='outer')"
   ]
  },
  {
   "cell_type": "code",
   "execution_count": 40,
   "metadata": {
    "scrolled": true
   },
   "outputs": [
    {
     "data": {
      "text/html": [
       "<div>\n",
       "<table border=\"1\" class=\"dataframe\">\n",
       "  <thead>\n",
       "    <tr style=\"text-align: right;\">\n",
       "      <th></th>\n",
       "      <th>a</th>\n",
       "      <th>b</th>\n",
       "      <th>c</th>\n",
       "    </tr>\n",
       "  </thead>\n",
       "  <tbody>\n",
       "    <tr>\n",
       "      <th>0</th>\n",
       "      <td>22</td>\n",
       "      <td>32.0</td>\n",
       "      <td>NaN</td>\n",
       "    </tr>\n",
       "    <tr>\n",
       "      <th>1</th>\n",
       "      <td>22</td>\n",
       "      <td>32.0</td>\n",
       "      <td>NaN</td>\n",
       "    </tr>\n",
       "    <tr>\n",
       "      <th>2</th>\n",
       "      <td>54</td>\n",
       "      <td>NaN</td>\n",
       "      <td>2.0</td>\n",
       "    </tr>\n",
       "    <tr>\n",
       "      <th>3</th>\n",
       "      <td>54</td>\n",
       "      <td>NaN</td>\n",
       "      <td>2.0</td>\n",
       "    </tr>\n",
       "  </tbody>\n",
       "</table>\n",
       "</div>"
      ],
      "text/plain": [
       "    a     b    c\n",
       "0  22  32.0  NaN\n",
       "1  22  32.0  NaN\n",
       "2  54   NaN  2.0\n",
       "3  54   NaN  2.0"
      ]
     },
     "execution_count": 40,
     "metadata": {},
     "output_type": "execute_result"
    }
   ],
   "source": [
    "merged_c"
   ]
  },
  {
   "cell_type": "code",
   "execution_count": 43,
   "metadata": {},
   "outputs": [],
   "source": [
    "from keras.models import Sequential\n",
    "from keras.layers import Dense, Activation, Dropout"
   ]
  },
  {
   "cell_type": "code",
   "execution_count": 68,
   "metadata": {
    "collapsed": true
   },
   "outputs": [],
   "source": [
    "#crude model\n",
    "model = Sequential()\n",
    "model.add(Dense(units=5, input_dim= 1444)) # input_dim is feature\n",
    "model.add(Activation('softmax'))\n"
   ]
  },
  {
   "cell_type": "code",
   "execution_count": 127,
   "metadata": {
    "collapsed": true
   },
   "outputs": [],
   "source": [
    "model2 = Sequential()\n",
    "model2.add(Dense(units=50, input_dim= 1444)) # input_dim is feature(\n",
    "model2.add(Activation('sigmoid'))\n",
    "\n",
    "model2.add(Dropout(0.5))\n",
    "model2.add(Dense(units=5))\n",
    "model2.add(Activation('softmax'))\n"
   ]
  },
  {
   "cell_type": "code",
   "execution_count": 128,
   "metadata": {
    "scrolled": true
   },
   "outputs": [
    {
     "name": "stdout",
     "output_type": "stream",
     "text": [
      "_________________________________________________________________\n",
      "Layer (type)                 Output Shape              Param #   \n",
      "=================================================================\n",
      "dense_13 (Dense)             (None, 50)                72250     \n",
      "_________________________________________________________________\n",
      "activation_13 (Activation)   (None, 50)                0         \n",
      "_________________________________________________________________\n",
      "dropout_4 (Dropout)          (None, 50)                0         \n",
      "_________________________________________________________________\n",
      "dense_14 (Dense)             (None, 5)                 255       \n",
      "_________________________________________________________________\n",
      "activation_14 (Activation)   (None, 5)                 0         \n",
      "=================================================================\n",
      "Total params: 72,505\n",
      "Trainable params: 72,505\n",
      "Non-trainable params: 0\n",
      "_________________________________________________________________\n"
     ]
    }
   ],
   "source": [
    "model2.summary()\n",
    "a_train = np.random.uniform(0, .001, (1444, 1444))\n",
    "b_trian = np.random.uniform(0, .01, (1444, 5))#this means feature\n",
    "b_test = np.random.uniform(0, .01, (1444, 1444))\n",
    "c = np.random.uniform(0, .01, (5, 144))"
   ]
  },
  {
   "cell_type": "code",
   "execution_count": 129,
   "metadata": {},
   "outputs": [
    {
     "name": "stdout",
     "output_type": "stream",
     "text": [
      "Epoch 1/20\n",
      "1444/1444 [==============================] - 0s - loss: 0.0464 - acc: 0.1981     \n",
      "Epoch 2/20\n",
      "1444/1444 [==============================] - 0s - loss: 0.0448 - acc: 0.2195     \n",
      "Epoch 3/20\n",
      "1444/1444 [==============================] - 0s - loss: 0.0443 - acc: 0.2001     \n",
      "Epoch 4/20\n",
      "1444/1444 [==============================] - 0s - loss: 0.0439 - acc: 0.2161     \n",
      "Epoch 5/20\n",
      "1444/1444 [==============================] - 0s - loss: 0.0436 - acc: 0.2105     \n",
      "Epoch 6/20\n",
      "1444/1444 [==============================] - 0s - loss: 0.0434 - acc: 0.1925     - ETA: 0s - loss: 0.0432 - acc: 0.18\n",
      "Epoch 7/20\n",
      "1444/1444 [==============================] - 0s - loss: 0.0431 - acc: 0.2022     \n",
      "Epoch 8/20\n",
      "1444/1444 [==============================] - 0s - loss: 0.0427 - acc: 0.2271     \n",
      "Epoch 9/20\n",
      "1444/1444 [==============================] - 0s - loss: 0.0427 - acc: 0.1884     \n",
      "Epoch 10/20\n",
      "1444/1444 [==============================] - 0s - loss: 0.0423 - acc: 0.2008     \n",
      "Epoch 11/20\n",
      "1444/1444 [==============================] - 0s - loss: 0.0422 - acc: 0.2091     \n",
      "Epoch 12/20\n",
      "1444/1444 [==============================] - 0s - loss: 0.0421 - acc: 0.1932     \n",
      "Epoch 13/20\n",
      "1444/1444 [==============================] - 0s - loss: 0.0419 - acc: 0.2105     \n",
      "Epoch 14/20\n",
      "1444/1444 [==============================] - 0s - loss: 0.0417 - acc: 0.2112     \n",
      "Epoch 15/20\n",
      "1444/1444 [==============================] - 0s - loss: 0.0416 - acc: 0.1898     \n",
      "Epoch 16/20\n",
      "1444/1444 [==============================] - 0s - loss: 0.0416 - acc: 0.1953     \n",
      "Epoch 17/20\n",
      "1444/1444 [==============================] - 0s - loss: 0.0414 - acc: 0.2036     \n",
      "Epoch 18/20\n",
      "1444/1444 [==============================] - 0s - loss: 0.0413 - acc: 0.2064     \n",
      "Epoch 19/20\n",
      "1444/1444 [==============================] - 0s - loss: 0.0413 - acc: 0.2029     \n",
      "Epoch 20/20\n",
      "1444/1444 [==============================] - 0s - loss: 0.0411 - acc: 0.1994     \n"
     ]
    },
    {
     "data": {
      "text/plain": [
       "<keras.callbacks.History at 0x7fb8fc1fd9d0>"
      ]
     },
     "execution_count": 129,
     "metadata": {},
     "output_type": "execute_result"
    }
   ],
   "source": [
    "model2.compile(optimizer='rmsprop',\n",
    "              loss='categorical_crossentropy',\n",
    "              metrics=['accuracy'])\n",
    "model2.fit(a_train, b_trian,\n",
    "          epochs=20,\n",
    "          batch_size=128)"
   ]
  },
  {
   "cell_type": "code",
   "execution_count": 130,
   "metadata": {},
   "outputs": [
    {
     "name": "stdout",
     "output_type": "stream",
     "text": [
      "1280/1444 [=========================>....] - ETA: 0s"
     ]
    }
   ],
   "source": [
    "score = model2.evaluate(a_train, b_trian, batch_size=128)"
   ]
  },
  {
   "cell_type": "code",
   "execution_count": 131,
   "metadata": {},
   "outputs": [],
   "source": [
    "result = model2.predict(b_test, batch_size=128)"
   ]
  },
  {
   "cell_type": "code",
   "execution_count": 132,
   "metadata": {},
   "outputs": [
    {
     "data": {
      "text/plain": [
       "array([[ 0.19660775,  0.20703483,  0.19865915,  0.18426305,  0.21343528],\n",
       "       [ 0.1966996 ,  0.2068419 ,  0.19882987,  0.18409763,  0.21353096],\n",
       "       [ 0.19641766,  0.20707013,  0.19874384,  0.18434398,  0.21342434],\n",
       "       ..., \n",
       "       [ 0.19652326,  0.20693193,  0.1987437 ,  0.18444362,  0.21335742],\n",
       "       [ 0.19648175,  0.20712781,  0.19881222,  0.18427569,  0.21330254],\n",
       "       [ 0.196714  ,  0.20674963,  0.19872607,  0.18426445,  0.21354583]], dtype=float32)"
      ]
     },
     "execution_count": 132,
     "metadata": {},
     "output_type": "execute_result"
    }
   ],
   "source": [
    "result"
   ]
  },
  {
   "cell_type": "code",
   "execution_count": 133,
   "metadata": {},
   "outputs": [
    {
     "data": {
      "text/plain": [
       "(1444, 5)"
      ]
     },
     "execution_count": 133,
     "metadata": {},
     "output_type": "execute_result"
    }
   ],
   "source": [
    "result.shape"
   ]
  },
  {
   "cell_type": "code",
   "execution_count": null,
   "metadata": {
    "collapsed": true
   },
   "outputs": [],
   "source": []
  }
 ],
 "metadata": {
  "kernelspec": {
   "display_name": "Python 2",
   "language": "python",
   "name": "python2"
  },
  "language_info": {
   "codemirror_mode": {
    "name": "ipython",
    "version": 2
   },
   "file_extension": ".py",
   "mimetype": "text/x-python",
   "name": "python",
   "nbconvert_exporter": "python",
   "pygments_lexer": "ipython2",
   "version": "2.7.12"
  }
 },
 "nbformat": 4,
 "nbformat_minor": 2
}
